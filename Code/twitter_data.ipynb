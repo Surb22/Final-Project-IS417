{
 "cells": [
  {
   "cell_type": "code",
   "execution_count": 1,
   "metadata": {},
   "outputs": [
    {
     "name": "stdout",
     "output_type": "stream",
     "text": [
      "Collecting git+https://github.com/JustAnotherArchivist/snscrape.git\n",
      "  Cloning https://github.com/JustAnotherArchivist/snscrape.git to c:\\users\\bharg\\appdata\\local\\temp\\pip-req-build-y9ire439\n",
      "  Resolved https://github.com/JustAnotherArchivist/snscrape.git to commit 35fb61a327474cc93010ab36e9037dd009d105ff\n",
      "Requirement already satisfied: requests[socks] in c:\\users\\bharg\\anaconda3\\envs\\dataviz\\lib\\site-packages (from snscrape==0.3.5.dev139+g35fb61a) (2.26.0)\n",
      "Collecting lxml\n",
      "  Downloading lxml-4.6.4-cp38-cp38-win_amd64.whl (3.6 MB)\n",
      "Collecting beautifulsoup4\n",
      "  Downloading beautifulsoup4-4.10.0-py3-none-any.whl (97 kB)\n",
      "Requirement already satisfied: pytz in c:\\users\\bharg\\anaconda3\\envs\\dataviz\\lib\\site-packages (from snscrape==0.3.5.dev139+g35fb61a) (2021.3)\n",
      "Collecting soupsieve>1.2\n",
      "  Downloading soupsieve-2.3.1-py3-none-any.whl (37 kB)\n",
      "Requirement already satisfied: idna<4,>=2.5 in c:\\users\\bharg\\anaconda3\\envs\\dataviz\\lib\\site-packages (from requests[socks]->snscrape==0.3.5.dev139+g35fb61a) (3.1)\n",
      "Requirement already satisfied: urllib3<1.27,>=1.21.1 in c:\\users\\bharg\\anaconda3\\envs\\dataviz\\lib\\site-packages (from requests[socks]->snscrape==0.3.5.dev139+g35fb61a) (1.26.7)\n",
      "Requirement already satisfied: charset-normalizer~=2.0.0 in c:\\users\\bharg\\anaconda3\\envs\\dataviz\\lib\\site-packages (from requests[socks]->snscrape==0.3.5.dev139+g35fb61a) (2.0.0)\n",
      "Requirement already satisfied: certifi>=2017.4.17 in c:\\users\\bharg\\anaconda3\\envs\\dataviz\\lib\\site-packages (from requests[socks]->snscrape==0.3.5.dev139+g35fb61a) (2021.10.8)\n",
      "Requirement already satisfied: PySocks!=1.5.7,>=1.5.6 in c:\\users\\bharg\\anaconda3\\envs\\dataviz\\lib\\site-packages (from requests[socks]->snscrape==0.3.5.dev139+g35fb61a) (1.7.1)\n",
      "Building wheels for collected packages: snscrape\n",
      "  Building wheel for snscrape (setup.py): started\n",
      "  Building wheel for snscrape (setup.py): finished with status 'done'\n",
      "  Created wheel for snscrape: filename=snscrape-0.3.5.dev139+g35fb61a-py3-none-any.whl size=52232 sha256=766a29db9111a5d3c55b7b03c7794e85fce672f6efcbe3b8d8f08076947dd344\n",
      "  Stored in directory: C:\\Users\\bharg\\AppData\\Local\\Temp\\pip-ephem-wheel-cache-0co28r3x\\wheels\\92\\42\\87\\33fa9b18f7a75d02643a9ca3743339aec9be28c6796267c7d8\n",
      "Successfully built snscrape\n",
      "Installing collected packages: soupsieve, lxml, beautifulsoup4, snscrape\n",
      "Successfully installed beautifulsoup4-4.10.0 lxml-4.6.4 snscrape-0.3.5.dev139+g35fb61a soupsieve-2.3.1\n"
     ]
    },
    {
     "name": "stderr",
     "output_type": "stream",
     "text": [
      "  Running command git clone -q https://github.com/JustAnotherArchivist/snscrape.git 'C:\\Users\\bharg\\AppData\\Local\\Temp\\pip-req-build-y9ire439'\n"
     ]
    }
   ],
   "source": [
    "!pip install git+https://github.com/JustAnotherArchivist/snscrape.git"
   ]
  },
  {
   "cell_type": "code",
   "execution_count": null,
   "metadata": {},
   "outputs": [],
   "source": [
    "import snscrape.modules.twitter as sntwitter\n",
    "import pandas as pd\n",
    "celebs =[ 'theweeknd', 'aliwong', 'michaelb4jordan']\n",
    "# Creating list to append tweet data to\n",
    "tweets_list1 = []\n",
    "?\n",
    "# Using TwitterSearchScraper to scrape data and append tweets to list\n",
    "for name in celebs:\n",
    "    data = 'from:'+name+ ' since:2019-01-01 until:2019-12-31'\n",
    "    print(data)\n",
    "    for i,tweet in enumerate(sntwitter.TwitterSearchScraper(data).get_items()):\n",
    "        if i>1000:\n",
    "            break\n",
    "        if (tweet.retweetCount)>20:\n",
    "            tweets_list1.append([tweet.user.displayname,tweet.user.followersCount])\n",
    "    \n",
    "# Creating a dataframe from the tweets list above \n",
    "tweets_df1 = pd.DataFrame(tweets_list1, columns=['Name','Number of Followers'])\n",
    "tweets_df1"
   ]
  }
 ],
 "metadata": {
  "kernelspec": {
   "display_name": "Python 3 (ipykernel)",
   "language": "python",
   "name": "python3"
  },
  "language_info": {
   "codemirror_mode": {
    "name": "ipython",
    "version": 3
   },
   "file_extension": ".py",
   "mimetype": "text/x-python",
   "name": "python",
   "nbconvert_exporter": "python",
   "pygments_lexer": "ipython3",
   "version": "3.8.12"
  }
 },
 "nbformat": 4,
 "nbformat_minor": 1
}
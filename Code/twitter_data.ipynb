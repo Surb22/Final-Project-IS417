{
 "cells": [
  {
   "cell_type": "code",
   "execution_count": 2,
   "metadata": {},
   "outputs": [
    {
     "name": "stdout",
     "output_type": "stream",
     "text": [
      "Collecting git+https://github.com/JustAnotherArchivist/snscrape.git\n",
      "  Cloning https://github.com/JustAnotherArchivist/snscrape.git to c:\\users\\bharg\\appdata\\local\\temp\\pip-req-build-xz9snd1x\n",
      "  Resolved https://github.com/JustAnotherArchivist/snscrape.git to commit 35fb61a327474cc93010ab36e9037dd009d105ff\n",
      "Requirement already satisfied: requests[socks] in c:\\users\\bharg\\anaconda3\\envs\\dataviz\\lib\\site-packages (from snscrape==0.3.5.dev139+g35fb61a) (2.26.0)\n",
      "Requirement already satisfied: lxml in c:\\users\\bharg\\anaconda3\\envs\\dataviz\\lib\\site-packages (from snscrape==0.3.5.dev139+g35fb61a) (4.6.4)\n",
      "Requirement already satisfied: beautifulsoup4 in c:\\users\\bharg\\anaconda3\\envs\\dataviz\\lib\\site-packages (from snscrape==0.3.5.dev139+g35fb61a) (4.10.0)\n",
      "Requirement already satisfied: pytz in c:\\users\\bharg\\anaconda3\\envs\\dataviz\\lib\\site-packages (from snscrape==0.3.5.dev139+g35fb61a) (2021.3)\n",
      "Requirement already satisfied: soupsieve>1.2 in c:\\users\\bharg\\anaconda3\\envs\\dataviz\\lib\\site-packages (from beautifulsoup4->snscrape==0.3.5.dev139+g35fb61a) (2.3.1)\n",
      "Requirement already satisfied: charset-normalizer~=2.0.0 in c:\\users\\bharg\\anaconda3\\envs\\dataviz\\lib\\site-packages (from requests[socks]->snscrape==0.3.5.dev139+g35fb61a) (2.0.0)\n",
      "Requirement already satisfied: urllib3<1.27,>=1.21.1 in c:\\users\\bharg\\anaconda3\\envs\\dataviz\\lib\\site-packages (from requests[socks]->snscrape==0.3.5.dev139+g35fb61a) (1.26.7)\n",
      "Requirement already satisfied: certifi>=2017.4.17 in c:\\users\\bharg\\anaconda3\\envs\\dataviz\\lib\\site-packages (from requests[socks]->snscrape==0.3.5.dev139+g35fb61a) (2021.10.8)\n",
      "Requirement already satisfied: idna<4,>=2.5 in c:\\users\\bharg\\anaconda3\\envs\\dataviz\\lib\\site-packages (from requests[socks]->snscrape==0.3.5.dev139+g35fb61a) (3.1)\n",
      "Requirement already satisfied: PySocks!=1.5.7,>=1.5.6 in c:\\users\\bharg\\anaconda3\\envs\\dataviz\\lib\\site-packages (from requests[socks]->snscrape==0.3.5.dev139+g35fb61a) (1.7.1)\n"
     ]
    },
    {
     "name": "stderr",
     "output_type": "stream",
     "text": [
      "  Running command git clone -q https://github.com/JustAnotherArchivist/snscrape.git 'C:\\Users\\bharg\\AppData\\Local\\Temp\\pip-req-build-xz9snd1x'\n"
     ]
    }
   ],
   "source": [
    "!pip install git+https://github.com/JustAnotherArchivist/snscrape.git"
   ]
  },
  {
   "cell_type": "code",
   "execution_count": 3,
   "metadata": {},
   "outputs": [
    {
     "name": "stdout",
     "output_type": "stream",
     "text": [
      "from:theweeknd since:2019-01-01 until:2019-12-31\n",
      "from:aliwong since:2019-01-01 until:2019-12-31\n",
      "from:michaelb4jordan since:2019-01-01 until:2019-12-31\n"
     ]
    },
    {
     "data": {
      "text/html": [
       "<div>\n",
       "<style scoped>\n",
       "    .dataframe tbody tr th:only-of-type {\n",
       "        vertical-align: middle;\n",
       "    }\n",
       "\n",
       "    .dataframe tbody tr th {\n",
       "        vertical-align: top;\n",
       "    }\n",
       "\n",
       "    .dataframe thead th {\n",
       "        text-align: right;\n",
       "    }\n",
       "</style>\n",
       "<table border=\"1\" class=\"dataframe\">\n",
       "  <thead>\n",
       "    <tr style=\"text-align: right;\">\n",
       "      <th></th>\n",
       "      <th>Name</th>\n",
       "      <th>Number of Followers</th>\n",
       "    </tr>\n",
       "  </thead>\n",
       "  <tbody>\n",
       "    <tr>\n",
       "      <th>0</th>\n",
       "      <td>The Weeknd</td>\n",
       "      <td>15261252</td>\n",
       "    </tr>\n",
       "    <tr>\n",
       "      <th>1</th>\n",
       "      <td>The Weeknd</td>\n",
       "      <td>15261252</td>\n",
       "    </tr>\n",
       "    <tr>\n",
       "      <th>2</th>\n",
       "      <td>The Weeknd</td>\n",
       "      <td>15261252</td>\n",
       "    </tr>\n",
       "    <tr>\n",
       "      <th>3</th>\n",
       "      <td>The Weeknd</td>\n",
       "      <td>15261252</td>\n",
       "    </tr>\n",
       "    <tr>\n",
       "      <th>4</th>\n",
       "      <td>The Weeknd</td>\n",
       "      <td>15261252</td>\n",
       "    </tr>\n",
       "    <tr>\n",
       "      <th>...</th>\n",
       "      <td>...</td>\n",
       "      <td>...</td>\n",
       "    </tr>\n",
       "    <tr>\n",
       "      <th>167</th>\n",
       "      <td>Michael B. Jordan</td>\n",
       "      <td>1349349</td>\n",
       "    </tr>\n",
       "    <tr>\n",
       "      <th>168</th>\n",
       "      <td>Michael B. Jordan</td>\n",
       "      <td>1349349</td>\n",
       "    </tr>\n",
       "    <tr>\n",
       "      <th>169</th>\n",
       "      <td>Michael B. Jordan</td>\n",
       "      <td>1349349</td>\n",
       "    </tr>\n",
       "    <tr>\n",
       "      <th>170</th>\n",
       "      <td>Michael B. Jordan</td>\n",
       "      <td>1349349</td>\n",
       "    </tr>\n",
       "    <tr>\n",
       "      <th>171</th>\n",
       "      <td>Michael B. Jordan</td>\n",
       "      <td>1349349</td>\n",
       "    </tr>\n",
       "  </tbody>\n",
       "</table>\n",
       "<p>172 rows × 2 columns</p>\n",
       "</div>"
      ],
      "text/plain": [
       "                  Name  Number of Followers\n",
       "0           The Weeknd             15261252\n",
       "1           The Weeknd             15261252\n",
       "2           The Weeknd             15261252\n",
       "3           The Weeknd             15261252\n",
       "4           The Weeknd             15261252\n",
       "..                 ...                  ...\n",
       "167  Michael B. Jordan              1349349\n",
       "168  Michael B. Jordan              1349349\n",
       "169  Michael B. Jordan              1349349\n",
       "170  Michael B. Jordan              1349349\n",
       "171  Michael B. Jordan              1349349\n",
       "\n",
       "[172 rows x 2 columns]"
      ]
     },
     "execution_count": 3,
     "metadata": {},
     "output_type": "execute_result"
    }
   ],
   "source": [
    "import snscrape.modules.twitter as sntwitter\n",
    "import pandas as pd\n",
    "celebs =[ 'theweeknd', 'aliwong', 'michaelb4jordan']\n",
    "# Creating list to append tweet data to\n",
    "tweets_list1 = []\n",
    "?\n",
    "# Using TwitterSearchScraper to scrape data and append tweets to list\n",
    "for name in celebs:\n",
    "    data = 'from:'+name+ ' since:2019-01-01 until:2019-12-31'\n",
    "    print(data)\n",
    "    for i,tweet in enumerate(sntwitter.TwitterSearchScraper(data).get_items()):\n",
    "        if i>1000:\n",
    "            break\n",
    "        if (tweet.retweetCount)>20:\n",
    "            tweets_list1.append([tweet.user.displayname,tweet.user.followersCount])\n",
    "    \n",
    "# Creating a dataframe from the tweets list above \n",
    "tweets_df1 = pd.DataFrame(tweets_list1, columns=['Name','Number of Followers'])\n",
    "tweets_df1"
   ]
  },
  {
   "cell_type": "code",
   "execution_count": 4,
   "metadata": {},
   "outputs": [],
   "source": [
    "tweets_df1.to_csv('twitter_data.csv')"
   ]
  },
  {
   "cell_type": "code",
   "execution_count": null,
   "metadata": {},
   "outputs": [],
   "source": []
  }
 ],
 "metadata": {
  "kernelspec": {
   "display_name": "Python 3 (ipykernel)",
   "language": "python",
   "name": "python3"
  },
  "language_info": {
   "codemirror_mode": {
    "name": "ipython",
    "version": 3
   },
   "file_extension": ".py",
   "mimetype": "text/x-python",
   "name": "python",
   "nbconvert_exporter": "python",
   "pygments_lexer": "ipython3",
   "version": "3.8.12"
  }
 },
 "nbformat": 4,
 "nbformat_minor": 1
}
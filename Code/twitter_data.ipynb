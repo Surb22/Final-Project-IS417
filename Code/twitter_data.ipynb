{
 "cells": [
  {
   "cell_type": "code",
   "execution_count": null,
   "metadata": {},
   "outputs": [],
   "source": [
    "!pip install git+https://github.com/JustAnotherArchivist/snscrape.git"
   ]
  },
  {
   "cell_type": "code",
   "execution_count": null,
   "metadata": {},
   "outputs": [],
   "source": [
    "import snscrape.modules.twitter as sntwitter\n",
    "import pandas as pd\n",
    "celebs =[ 'theweeknd', 'aliwong', 'michaelb4jordan','selenagomez', 'JBALVIN', 'itsjojosiwa', 'halsey', 'IAMJHUD',\n",
    "'YoYo_Ma', 'DapperDanHarlem','anaismitchell', 'MichaelaCoel' , 'JulieMehretu', 'ayushmannk', 'VP', 'iingwen',\n",
    "'johnrobertsFox', 'POTUS', 'jairbolsonaro', 'SpeakerPelosi', 'narendramodi' , 'Anne_Hidalgo', 'DrTedros',\n",
    "'MaryKayHenry', 'vonderleyen', 'NNUBonnie', 'MTamfum', 'Giannis_An34', 'DrIbram', 'nathanlawkc', 'Astro_Christina', 'jkbjournalist',\n",
    "'MooreMaya', 'chasestrangio', 'tourmaliiine', 'waadalkateab',\n",
    "'g_camara_b', 'camilla_rothe', 'rebeccagomperts', 'ravgup33_ravi', 'TexasDownUnder', 'photograshiori', 'theestallion']\n",
    "# Creating list to append tweet data to\n",
    "tweets_list1 = []\n",
    "?\n",
    "# Using TwitterSearchScraper to scrape data and append tweets to list\n",
    "for name in celebs:\n",
    "    data = 'from:'+name+ ' since:2019-01-01 until:2019-12-31'\n",
    "    print(data)\n",
    "    for i,tweet in enumerate(sntwitter.TwitterSearchScraper(data).get_items()):\n",
    "        if i>1000:\n",
    "            break\n",
    "        if (tweet.retweetCount)>20:\n",
    "            tweets_list1.append([tweet.user.displayname,tweet.user.followersCount,tweet.user.created,tweet.likeCount,\n",
    "tweet.user,tweet.content,tweet.retweetCount,tweet.user.location])\n",
    "    \n",
    "# Creating a dataframe from the tweets list above \n",
    "tweets_df1 = pd.DataFrame(tweets_list1, columns=['Name','Number of Followers','Account created Date','Number of Likes',\n",
    "'TwitterHandle','Content','RetweetCount','Location'])\n",
    "tweets_df1"
   ]
  },
  {
   "cell_type": "code",
   "execution_count": null,
   "metadata": {},
   "outputs": [],
   "source": [
    "tweets_df1.to_csv('twitter_data.csv')"
   ]
  },
  {
   "cell_type": "code",
   "execution_count": null,
   "metadata": {},
   "outputs": [],
   "source": []
  }
 ],
 "metadata": {
  "kernelspec": {
   "display_name": "Python 3",
   "language": "python",
   "name": "python3"
  },
  "language_info": {
   "codemirror_mode": {
    "name": "ipython",
    "version": 3
   },
   "file_extension": ".py",
   "mimetype": "text/x-python",
   "name": "python",
   "nbconvert_exporter": "python",
   "pygments_lexer": "ipython3",
   "version": "3.8.8"
  }
 },
 "nbformat": 4,
 "nbformat_minor": 1
}
